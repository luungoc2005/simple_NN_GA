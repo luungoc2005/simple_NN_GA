{
 "cells": [
  {
   "cell_type": "code",
   "execution_count": 1,
   "metadata": {},
   "outputs": [],
   "source": [
    "import csv\n",
    "import numpy as np"
   ]
  },
  {
   "cell_type": "code",
   "execution_count": 2,
   "metadata": {},
   "outputs": [],
   "source": [
    "with open('input.csv', 'r') as csvfile:\n",
    "    inputs = list(csv.reader(csvfile))\n",
    "    inputs = [\n",
    "        [float(num) for num in row]\n",
    "        for row in inputs\n",
    "        if '-999' not in row\n",
    "    ]\n",
    "inputs = np.array(inputs)\n",
    "\n",
    "with open('output.csv', 'r') as csvfile:\n",
    "    outputs = list(csv.reader(csvfile)) #[1:] # Skip the first row\n",
    "    outputs = [\n",
    "        [float(num) for num in row]\n",
    "        for row in outputs\n",
    "    ]\n",
    "outputs = np.array(outputs)"
   ]
  },
  {
   "cell_type": "markdown",
   "metadata": {},
   "source": [
    "Get the depths with output values"
   ]
  },
  {
   "cell_type": "code",
   "execution_count": 3,
   "metadata": {},
   "outputs": [],
   "source": [
    "# Output depths\n",
    "out_depths = outputs[:,0]\n",
    "out_depths = [round(depth, 1) for depth in out_depths]\n",
    "\n",
    "# Input depths\n",
    "in_depths = inputs[:,0]\n",
    "in_depths = [round(depth, 1) for depth in in_depths]"
   ]
  },
  {
   "cell_type": "code",
   "execution_count": 4,
   "metadata": {},
   "outputs": [],
   "source": [
    "X = []\n",
    "Y = []\n",
    "\n",
    "# inputs = inputs[:,1:] #remove the first redundant column\n",
    "# Map output values to inputs\n",
    "for out_idx, depth in enumerate(out_depths):\n",
    "    if depth in in_depths:\n",
    "        # Map the inputs to outputs by depth\n",
    "        X.append(inputs[in_depths.index(depth)])\n",
    "        Y.append(outputs[out_idx][1])\n",
    "X = np.array(X)\n",
    "Y = np.array(Y)"
   ]
  },
  {
   "cell_type": "markdown",
   "metadata": {},
   "source": [
    "Scale inputs so that mean = 0 / variance = 1"
   ]
  },
  {
   "cell_type": "code",
   "execution_count": 5,
   "metadata": {},
   "outputs": [
    {
     "name": "stdout",
     "output_type": "stream",
     "text": [
      "(189, 5)\n",
      "(189,)\n",
      "(48, 5)\n",
      "(48,)\n"
     ]
    }
   ],
   "source": [
    "from sklearn.preprocessing import StandardScaler\n",
    "from sklearn.model_selection import train_test_split\n",
    "\n",
    "input_scaler = StandardScaler(copy=True, with_mean=True, with_std=True)\n",
    "input_scaler.fit(inputs)\n",
    "output_scaler = StandardScaler(copy=True, with_mean=True, with_std=True)\n",
    "output_scaler.fit(outputs[:,-1].reshape(-1, 1))\n",
    "\n",
    "X = input_scaler.transform(X)\n",
    "\n",
    "X_train, X_test, y_train, y_test = train_test_split(X, Y, test_size=0.2, random_state=1994)\n",
    "print(X_train.shape)\n",
    "print(y_train.shape)\n",
    "print(X_test.shape)\n",
    "print(y_test.shape)\n",
    "# Y_scaled = output_scaler.transform(Y.reshape(-1, 1))"
   ]
  },
  {
   "cell_type": "markdown",
   "metadata": {},
   "source": [
    "Naive model in scikit-learn for testing model parameters"
   ]
  },
  {
   "cell_type": "code",
   "execution_count": 6,
   "metadata": {},
   "outputs": [],
   "source": [
    "# from sklearn.neural_network import MLPRegressor\n",
    "\n",
    "# models = []\n",
    "# for hidden_size in range(10, 210, 10):\n",
    "#     for lr in [0.1, 0.01, 0.001]:\n",
    "#         for alpha in [0.05, 0.1, 0.25, 0.5]:\n",
    "#             model = MLPRegressor(hidden_layer_sizes=(hidden_size,), \n",
    "#                                  activation='relu', \n",
    "#                                  solver='lbfgs',\n",
    "#                                  alpha=alpha,\n",
    "#                                  max_iter=500,\n",
    "#                                  learning_rate_init=lr,\n",
    "#                                  validation_fraction=0.1,\n",
    "#                                  random_state=1994,\n",
    "#                                  verbose=False)\n",
    "#             model.fit(X, Y)\n",
    "#             score = model.score(X,Y)\n",
    "#             print('Testing with hidden_size=%s, lr=%s, alpha:%s, score:%s' % (hidden_size, lr, alpha, score))\n",
    "#             models.append({'model': model, 'score': score})"
   ]
  },
  {
   "cell_type": "code",
   "execution_count": 7,
   "metadata": {},
   "outputs": [],
   "source": [
    "# Best score\n",
    "# models = sorted(models, key=lambda x:-x['score'])\n",
    "# top_model = models[0]['model']\n",
    "# print(top_model)\n",
    "\n",
    "# From this we found out that best model has alpha=0.05; hidden_size=170; lr=0.1\n",
    "# MLPRegressor(activation='relu', alpha=0.05, batch_size='auto', beta_1=0.9,\n",
    "#        beta_2=0.999, early_stopping=False, epsilon=1e-08,\n",
    "#        hidden_layer_sizes=(170,), learning_rate='constant',\n",
    "#        learning_rate_init=0.1, max_iter=500, momentum=0.9,\n",
    "#        nesterovs_momentum=True, power_t=0.5, random_state=1994,\n",
    "#        shuffle=True, solver='lbfgs', tol=0.0001, validation_fraction=0.1,\n",
    "#        verbose=False, warm_start=False)"
   ]
  },
  {
   "cell_type": "code",
   "execution_count": 8,
   "metadata": {},
   "outputs": [
    {
     "data": {
      "text/plain": [
       "MLPRegressor(activation='relu', alpha=0.05, batch_size='auto', beta_1=0.9,\n",
       "       beta_2=0.999, early_stopping=False, epsilon=1e-08,\n",
       "       hidden_layer_sizes=(170,), learning_rate='constant',\n",
       "       learning_rate_init=0.1, max_iter=500, momentum=0.9,\n",
       "       nesterovs_momentum=True, power_t=0.5, random_state=1994,\n",
       "       shuffle=True, solver='lbfgs', tol=0.0001, validation_fraction=0.0,\n",
       "       verbose=False, warm_start=False)"
      ]
     },
     "execution_count": 8,
     "metadata": {},
     "output_type": "execute_result"
    }
   ],
   "source": [
    "from sklearn.neural_network import MLPRegressor\n",
    "model = MLPRegressor(hidden_layer_sizes=(170,), \n",
    "                     activation='relu', \n",
    "                     solver='lbfgs',\n",
    "                     alpha=0.05,\n",
    "                     max_iter=500,\n",
    "                     learning_rate_init=0.1,\n",
    "                     validation_fraction=0.,\n",
    "                     random_state=1994,\n",
    "                     verbose=False)\n",
    "model.fit(X_train, y_train)"
   ]
  },
  {
   "cell_type": "code",
   "execution_count": 9,
   "metadata": {
    "scrolled": false
   },
   "outputs": [],
   "source": [
    "# print(Y)"
   ]
  },
  {
   "cell_type": "code",
   "execution_count": 10,
   "metadata": {
    "scrolled": true
   },
   "outputs": [],
   "source": [
    "# print(model.predict(X))"
   ]
  },
  {
   "cell_type": "markdown",
   "metadata": {},
   "source": [
    "Calculate R^2 score of the model"
   ]
  },
  {
   "cell_type": "code",
   "execution_count": 11,
   "metadata": {},
   "outputs": [
    {
     "data": {
      "text/plain": [
       "-2.386993342313885"
      ]
     },
     "execution_count": 11,
     "metadata": {},
     "output_type": "execute_result"
    }
   ],
   "source": [
    "model.score(X_test, y_test)"
   ]
  },
  {
   "cell_type": "markdown",
   "metadata": {},
   "source": [
    "More flexible model with ELU instead of ReLU"
   ]
  },
  {
   "cell_type": "code",
   "execution_count": 12,
   "metadata": {},
   "outputs": [],
   "source": [
    "import torch\n",
    "Y_view = np.reshape(y_train, (-1, 1)) # Transform Y into 2d array\n",
    "\n",
    "from torch.autograd import Variable\n",
    "X_var = Variable(torch.from_numpy(X_train).float())\n",
    "Y_var = Variable(torch.from_numpy(Y_view).float())"
   ]
  },
  {
   "cell_type": "code",
   "execution_count": 13,
   "metadata": {},
   "outputs": [],
   "source": [
    "import torch.nn as nn\n",
    "\n",
    "class Simple_NN(nn.Module):\n",
    "    \n",
    "    def __init__(self, config):\n",
    "        super(Simple_NN, self).__init__()\n",
    "        \n",
    "        self.hidden_size = config['hidden_size']\n",
    "        self.dropout_keep_prob = config['dropout_keep_prob']\n",
    "        \n",
    "        self.linear = nn.Sequential(\n",
    "            nn.Linear(5, self.hidden_size),\n",
    "            nn.ELU(),\n",
    "            nn.Dropout(1 - self.dropout_keep_prob),\n",
    "            nn.Linear(self.hidden_size, self.hidden_size),\n",
    "            nn.ELU(),\n",
    "            nn.Dropout(1 - self.dropout_keep_prob),\n",
    "            nn.Linear(self.hidden_size, self.hidden_size),\n",
    "            nn.ELU(),\n",
    "            nn.Dropout(1 - self.dropout_keep_prob),\n",
    "            nn.Linear(self.hidden_size, 1),\n",
    "        )\n",
    "        \n",
    "    def forward(self, inputs):\n",
    "        output = self.linear(inputs)\n",
    "        return output"
   ]
  },
  {
   "cell_type": "code",
   "execution_count": 14,
   "metadata": {},
   "outputs": [
    {
     "name": "stdout",
     "output_type": "stream",
     "text": [
      "Hidden size: 10, Score: 0.04292283849399281\n",
      "Hidden size: 10, Score: 0.15314582219050932\n",
      "Hidden size: 10, Score: 0.024277574558904225\n",
      "Hidden size: 10, Score: 0.04486125054394541\n",
      "Hidden size: 10, Score: -0.050650000471530676\n",
      "Hidden size: 10, Score: 0.07833279978330221\n",
      "Hidden size: 10, Score: -0.0755791824369163\n",
      "Hidden size: 10, Score: 0.09728055036726158\n",
      "Hidden size: 10, Score: 0.16572045544986336\n",
      "Hidden size: 10, Score: 0.047247755917771195\n",
      "Hidden size: 10, Score: 0.035395430401096384\n",
      "Hidden size: 10, Score: -0.04386662058421398\n",
      "Hidden size: 10, Score: -0.12452903481626709\n",
      "Hidden size: 10, Score: -0.086046684724574\n",
      "Hidden size: 10, Score: -0.3084646123313355\n",
      "Hidden size: 20, Score: 0.04533051866066029\n",
      "Hidden size: 20, Score: 0.07852650455659749\n",
      "Hidden size: 20, Score: -0.07096032143656883\n",
      "Hidden size: 20, Score: -1.1973143026248843\n",
      "Hidden size: 20, Score: -0.9634174906973221\n",
      "Hidden size: 20, Score: -0.2342330387698599\n",
      "Hidden size: 20, Score: -0.1345054157238723\n",
      "Hidden size: 20, Score: 0.0333640225089179\n",
      "Hidden size: 20, Score: -0.013664028720975496\n",
      "Hidden size: 20, Score: -0.05689393518506547\n",
      "Hidden size: 20, Score: 0.041396075360288886\n",
      "Hidden size: 20, Score: 0.060384290162162735\n",
      "Hidden size: 20, Score: -0.030948311509633397\n",
      "Hidden size: 20, Score: -0.1389905384677561\n",
      "Hidden size: 20, Score: -0.1732497467693035\n",
      "Hidden size: 30, Score: -0.9609796034279718\n",
      "Hidden size: 30, Score: -0.24161615999033037\n",
      "Hidden size: 30, Score: -0.2827067254269955\n",
      "Hidden size: 30, Score: -0.13168297132965923\n",
      "Hidden size: 30, Score: -0.07107817278365469\n",
      "Hidden size: 30, Score: 0.07024403160387749\n",
      "Hidden size: 30, Score: -0.20796364040861204\n",
      "Hidden size: 30, Score: -0.15293725294887373\n",
      "Hidden size: 30, Score: -0.042161787979130505\n",
      "Hidden size: 30, Score: 0.24727147118120807\n",
      "Hidden size: 30, Score: 0.08691423424267641\n",
      "Hidden size: 30, Score: -0.0123470157680996\n",
      "Hidden size: 30, Score: 0.008350974210505568\n",
      "Hidden size: 30, Score: 0.03761880480593616\n",
      "Hidden size: 30, Score: -0.06476048594903294\n",
      "Hidden size: 40, Score: -0.07458901792421369\n",
      "Hidden size: 40, Score: 0.08220833559682827\n",
      "Hidden size: 40, Score: -0.4773594977409976\n",
      "Hidden size: 40, Score: -0.1609275066841589\n",
      "Hidden size: 40, Score: -1.1732333093089018\n",
      "Hidden size: 40, Score: -0.11810802774977658\n",
      "Hidden size: 40, Score: -0.236326885108614\n",
      "Hidden size: 40, Score: -0.24388721460011475\n",
      "Hidden size: 40, Score: -0.24482119594809704\n",
      "Hidden size: 40, Score: -0.08122272449560364\n",
      "Hidden size: 40, Score: 0.09775140448394704\n",
      "Hidden size: 40, Score: 0.07832847256848252\n",
      "Hidden size: 40, Score: 0.024699648954868203\n",
      "Hidden size: 40, Score: 0.06197429023728085\n",
      "Hidden size: 40, Score: 0.13388376819095305\n",
      "Hidden size: 50, Score: -0.22168560949709137\n",
      "Hidden size: 50, Score: -0.7327337009275836\n",
      "Hidden size: 50, Score: -0.7088460731813251\n",
      "Hidden size: 50, Score: -0.4961891327203771\n",
      "Hidden size: 50, Score: -0.01419951597477942\n",
      "Hidden size: 50, Score: -0.22042851942474684\n",
      "Hidden size: 50, Score: -0.32563924419977464\n",
      "Hidden size: 50, Score: -0.07350155643764378\n",
      "Hidden size: 50, Score: -0.392132789639426\n",
      "Hidden size: 50, Score: -0.0659993849186633\n",
      "Hidden size: 50, Score: 0.15195447858896893\n",
      "Hidden size: 50, Score: 0.12341690493477753\n",
      "Hidden size: 50, Score: 0.07036654400379394\n",
      "Hidden size: 50, Score: 0.049394467556794774\n",
      "Hidden size: 50, Score: 0.05669317141454988\n",
      "Hidden size: 60, Score: -0.07070438767822096\n",
      "Hidden size: 60, Score: -0.05929863606960839\n",
      "Hidden size: 60, Score: -0.6877649293260504\n",
      "Hidden size: 60, Score: -0.07103066300392191\n",
      "Hidden size: 60, Score: -0.6731727678854278\n",
      "Hidden size: 60, Score: 0.0009321664887445014\n",
      "Hidden size: 60, Score: -0.05150002140627441\n",
      "Hidden size: 60, Score: -0.23773582286948236\n",
      "Hidden size: 60, Score: -0.22927528442925693\n",
      "Hidden size: 60, Score: -0.04739271061780004\n",
      "Hidden size: 60, Score: 0.1340691569544713\n",
      "Hidden size: 60, Score: 0.052323627742063894\n",
      "Hidden size: 60, Score: 0.1376513270415637\n",
      "Hidden size: 60, Score: 0.008391992651506586\n",
      "Hidden size: 60, Score: 0.048045145460238414\n",
      "Hidden size: 70, Score: 0.258215817014127\n",
      "Hidden size: 70, Score: 0.05477130553520315\n",
      "Hidden size: 70, Score: -0.7878838308638598\n",
      "Hidden size: 70, Score: -0.0739242812316454\n",
      "Hidden size: 70, Score: -0.5742135990982107\n",
      "Hidden size: 70, Score: -0.06201507422022612\n",
      "Hidden size: 70, Score: -0.21701043884393534\n",
      "Hidden size: 70, Score: -0.15682635098512976\n",
      "Hidden size: 70, Score: -0.23674375722730656\n",
      "Hidden size: 70, Score: -0.08970756170475536\n",
      "Hidden size: 70, Score: 0.21887121789079\n",
      "Hidden size: 70, Score: 0.13402594634156573\n",
      "Hidden size: 70, Score: 0.22468383567595307\n",
      "Hidden size: 70, Score: 0.08547212696730089\n",
      "Hidden size: 70, Score: -0.03172129258937417\n",
      "Hidden size: 80, Score: -0.7646216714635807\n",
      "Hidden size: 80, Score: -0.6429659280901823\n",
      "Hidden size: 80, Score: 0.06371733242029398\n",
      "Hidden size: 80, Score: -0.08485676981005508\n",
      "Hidden size: 80, Score: -0.49092316992417606\n",
      "Hidden size: 80, Score: 0.06664838060763578\n",
      "Hidden size: 80, Score: 0.14640036791941458\n",
      "Hidden size: 80, Score: -0.4613601191263321\n",
      "Hidden size: 80, Score: -0.03993211557879217\n",
      "Hidden size: 80, Score: -0.05615219905564395\n",
      "Hidden size: 80, Score: 0.14789207282835026\n",
      "Hidden size: 80, Score: 0.1704232792341105\n",
      "Hidden size: 80, Score: 0.182717957765694\n",
      "Hidden size: 80, Score: 0.08879923300710368\n",
      "Hidden size: 80, Score: -0.005042086666895873\n",
      "Hidden size: 90, Score: -0.7213268833106437\n",
      "Hidden size: 90, Score: 0.13236370058836644\n",
      "Hidden size: 90, Score: -0.4608741335627975\n",
      "Hidden size: 90, Score: -0.656246666188697\n",
      "Hidden size: 90, Score: -0.01070599792721949\n",
      "Hidden size: 90, Score: -0.06036278273140794\n",
      "Hidden size: 90, Score: 0.1354164265002621\n",
      "Hidden size: 90, Score: -0.32737549698506463\n",
      "Hidden size: 90, Score: -0.0850332929255544\n",
      "Hidden size: 90, Score: -0.10178557798501453\n",
      "Hidden size: 90, Score: 0.12097763568713316\n",
      "Hidden size: 90, Score: 0.09307703481271001\n",
      "Hidden size: 90, Score: 0.09760295209278336\n",
      "Hidden size: 90, Score: 0.08211183332519811\n",
      "Hidden size: 90, Score: 0.13118743847370984\n",
      "Hidden size: 100, Score: -0.4986972395564975\n",
      "Hidden size: 100, Score: -0.3912959932444706\n",
      "Hidden size: 100, Score: -0.09743448030030155\n",
      "Hidden size: 100, Score: -0.6146403750408864\n",
      "Hidden size: 100, Score: -0.5337985371001226\n",
      "Hidden size: 100, Score: -0.021364052591346328\n",
      "Hidden size: 100, Score: -0.12158310882543\n",
      "Hidden size: 100, Score: 0.11765059376465636\n",
      "Hidden size: 100, Score: -0.3774778822996081\n",
      "Hidden size: 100, Score: 0.07928705953452164\n",
      "Hidden size: 100, Score: 0.07350161218556084\n",
      "Hidden size: 100, Score: 0.07500691892112465\n",
      "Hidden size: 100, Score: 0.0713126928017257\n",
      "Hidden size: 100, Score: 0.06060620607475897\n",
      "Hidden size: 100, Score: 0.1405468380075766\n",
      "Hidden size: 110, Score: -0.22083825483785202\n",
      "Hidden size: 110, Score: -0.20106523081101368\n",
      "Hidden size: 110, Score: -0.030738941995024138\n",
      "Hidden size: 110, Score: 0.05922071766701964\n",
      "Hidden size: 110, Score: -0.10326002337162321\n",
      "Hidden size: 110, Score: -0.12228995449447999\n",
      "Hidden size: 110, Score: -0.10520388633060773\n",
      "Hidden size: 110, Score: -0.1391928534219593\n",
      "Hidden size: 110, Score: 0.15845341902395904\n",
      "Hidden size: 110, Score: -0.2091536862517609\n",
      "Hidden size: 110, Score: 0.2288491027114461\n",
      "Hidden size: 110, Score: 0.15813312769558008\n",
      "Hidden size: 110, Score: 0.11942261895910655\n",
      "Hidden size: 110, Score: 0.13226969368397734\n",
      "Hidden size: 110, Score: 0.17390021657505605\n",
      "Hidden size: 120, Score: -0.35529690191792596\n",
      "Hidden size: 120, Score: 0.10302815609779159\n",
      "Hidden size: 120, Score: -0.5823035183917584\n",
      "Hidden size: 120, Score: -0.16736588148438147\n",
      "Hidden size: 120, Score: -0.26015426190078883\n",
      "Hidden size: 120, Score: -0.3056860176414322\n",
      "Hidden size: 120, Score: -0.41743991313758744\n",
      "Hidden size: 120, Score: -0.2695431175814462\n",
      "Hidden size: 120, Score: -0.3686562118053587\n",
      "Hidden size: 120, Score: -0.3510570054957818\n",
      "Hidden size: 120, Score: 0.20787925585305222\n",
      "Hidden size: 120, Score: 0.11646126938279855\n",
      "Hidden size: 120, Score: 0.01823430264350312\n",
      "Hidden size: 120, Score: 0.06968910863955002\n",
      "Hidden size: 120, Score: 0.09441956306490418\n",
      "Hidden size: 130, Score: 0.024232872836498665\n",
      "Hidden size: 130, Score: -0.4610201098461668\n",
      "Hidden size: 130, Score: -0.316412301264793\n",
      "Hidden size: 130, Score: -0.6988291413480492\n"
     ]
    },
    {
     "name": "stdout",
     "output_type": "stream",
     "text": [
      "Hidden size: 130, Score: 0.10034815302081301\n",
      "Hidden size: 130, Score: -0.43435438477800536\n",
      "Hidden size: 130, Score: -0.190814703066164\n",
      "Hidden size: 130, Score: -0.10686123997453967\n",
      "Hidden size: 130, Score: 0.002729023370818595\n",
      "Hidden size: 130, Score: -0.1780219982926805\n",
      "Hidden size: 130, Score: 0.06478788823187431\n",
      "Hidden size: 130, Score: 0.06363662709155671\n",
      "Hidden size: 130, Score: 0.05532662043019154\n",
      "Hidden size: 130, Score: 0.03268642609299177\n",
      "Hidden size: 130, Score: 0.15623037577101906\n",
      "Hidden size: 140, Score: -0.09448244723994326\n",
      "Hidden size: 140, Score: -0.23754230112735608\n",
      "Hidden size: 140, Score: -0.6044021802594735\n",
      "Hidden size: 140, Score: -0.09797918297977537\n",
      "Hidden size: 140, Score: -0.10155382522110057\n",
      "Hidden size: 140, Score: -0.01736040986146037\n",
      "Hidden size: 140, Score: -0.22934942822467996\n",
      "Hidden size: 140, Score: -0.6392891520003359\n",
      "Hidden size: 140, Score: 0.296961145752237\n",
      "Hidden size: 140, Score: -0.07019738102215611\n",
      "Hidden size: 140, Score: 0.2293306374050933\n",
      "Hidden size: 140, Score: 0.15132995624224477\n",
      "Hidden size: 140, Score: 0.053706684988280684\n",
      "Hidden size: 140, Score: 0.05050565440557242\n",
      "Hidden size: 140, Score: 0.034069747831791064\n",
      "Hidden size: 150, Score: -0.31585689370506276\n",
      "Hidden size: 150, Score: -0.10991020898542603\n",
      "Hidden size: 150, Score: -1.1588181980154966\n",
      "Hidden size: 150, Score: -0.09825972014162154\n",
      "Hidden size: 150, Score: 0.15262516371375912\n",
      "Hidden size: 150, Score: -0.06699635005004256\n",
      "Hidden size: 150, Score: -0.04288558243306495\n",
      "Hidden size: 150, Score: -0.21616942517263116\n",
      "Hidden size: 150, Score: -0.05807604196663374\n",
      "Hidden size: 150, Score: -0.5305647234519726\n",
      "Hidden size: 150, Score: 0.0035090376983550886\n",
      "Hidden size: 150, Score: 0.034259549864067096\n",
      "Hidden size: 150, Score: 0.2305002401569105\n",
      "Hidden size: 150, Score: 0.14593698410096412\n",
      "Hidden size: 150, Score: -0.006666057867205977\n",
      "Hidden size: 160, Score: -0.19085149547989033\n",
      "Hidden size: 160, Score: -0.19081253358788808\n",
      "Hidden size: 160, Score: -0.15790828636767973\n",
      "Hidden size: 160, Score: -0.06575522419782653\n",
      "Hidden size: 160, Score: 0.020811482884439236\n",
      "Hidden size: 160, Score: -0.2766890351609994\n",
      "Hidden size: 160, Score: -0.9489543719788032\n",
      "Hidden size: 160, Score: -0.04606556783612992\n",
      "Hidden size: 160, Score: -0.42503878960005537\n",
      "Hidden size: 160, Score: 0.1001975909954218\n",
      "Hidden size: 160, Score: 0.10924700616548266\n",
      "Hidden size: 160, Score: 0.11425534676618032\n",
      "Hidden size: 160, Score: 0.14059676395313558\n",
      "Hidden size: 160, Score: 0.03826861281042582\n",
      "Hidden size: 160, Score: 0.08329772386039414\n",
      "Hidden size: 170, Score: -0.1134346444265113\n",
      "Hidden size: 170, Score: -0.5200132892116871\n",
      "Hidden size: 170, Score: -0.1383324815587086\n",
      "Hidden size: 170, Score: 0.0701277604720627\n",
      "Hidden size: 170, Score: -0.029022996377850108\n",
      "Hidden size: 170, Score: -0.4474661998200191\n",
      "Hidden size: 170, Score: -0.12716307710732155\n",
      "Hidden size: 170, Score: -0.13736365828091257\n",
      "Hidden size: 170, Score: -0.6015650490597435\n",
      "Hidden size: 170, Score: -0.5918887511697486\n",
      "Hidden size: 170, Score: 0.14034784911906562\n",
      "Hidden size: 170, Score: 0.013158934712589443\n",
      "Hidden size: 170, Score: 0.12242302605505162\n",
      "Hidden size: 170, Score: 0.14008282149085904\n",
      "Hidden size: 170, Score: -0.026157711631439762\n",
      "Hidden size: 180, Score: 0.006536734617885065\n",
      "Hidden size: 180, Score: -0.25258055161378223\n",
      "Hidden size: 180, Score: -0.48380724165991595\n",
      "Hidden size: 180, Score: 0.1718554587176111\n",
      "Hidden size: 180, Score: -0.022741897110083675\n",
      "Hidden size: 180, Score: -0.3139320993120751\n",
      "Hidden size: 180, Score: -0.34050995907506887\n",
      "Hidden size: 180, Score: -0.007645345623206401\n",
      "Hidden size: 180, Score: -0.16673510702531513\n",
      "Hidden size: 180, Score: -0.08838059279826926\n",
      "Hidden size: 180, Score: 0.08241802697373657\n",
      "Hidden size: 180, Score: 0.12343182968678201\n",
      "Hidden size: 180, Score: 0.20806784691538605\n",
      "Hidden size: 180, Score: 0.13106189441323646\n",
      "Hidden size: 180, Score: 0.17291880246846425\n",
      "Hidden size: 190, Score: -0.06956191245223442\n",
      "Hidden size: 190, Score: -0.3114303438568644\n",
      "Hidden size: 190, Score: -1.1054222564238092\n",
      "Hidden size: 190, Score: 0.04932047134729323\n",
      "Hidden size: 190, Score: -0.06628095789556965\n",
      "Hidden size: 190, Score: -0.45247339788858554\n",
      "Hidden size: 190, Score: 0.06698786503129173\n",
      "Hidden size: 190, Score: -0.03386510736634252\n",
      "Hidden size: 190, Score: 0.11242648977918623\n",
      "Hidden size: 190, Score: -0.5190997792249825\n",
      "Hidden size: 190, Score: 0.0017048953258185229\n",
      "Hidden size: 190, Score: 0.13521571953209177\n",
      "Hidden size: 190, Score: -0.0016639161407372427\n",
      "Hidden size: 190, Score: 0.1526672955169821\n",
      "Hidden size: 190, Score: 0.3007091979501415\n"
     ]
    }
   ],
   "source": [
    "import torch.optim as optim\n",
    "from sklearn.metrics import r2_score\n",
    "\n",
    "models = []\n",
    "for hidden_size in range(10, 200, 10):\n",
    "    for lr in [0.1, 0.01, 0.001]:\n",
    "        for dropout in [0.9, 0.8, 0.7, 0.6, 0.5]:\n",
    "            # Training:\n",
    "            all_losses = []\n",
    "\n",
    "            model = Simple_NN({'hidden_size': hidden_size, 'dropout_keep_prob': dropout})\n",
    "            # optimizer = optim.SGD(model.parameters(), lr=0.1, momentum=0.9, weight_decay=1e-4)\n",
    "            optimizer = optim.Adam(model.parameters(), lr=lr)\n",
    "            criterion = nn.SmoothL1Loss()\n",
    "\n",
    "            for epoch in range(1000):\n",
    "                optimizer.zero_grad()\n",
    "\n",
    "                output = model(X_var)\n",
    "                loss = criterion(output, Y_var)\n",
    "                loss.backward()\n",
    "\n",
    "                nn.utils.clip_grad_norm(model.parameters(), 5.)\n",
    "                all_losses.append(loss.data[0])\n",
    "\n",
    "            #     print('Epoch %s, loss: %s' % (epoch + 1, loss.data[0]))\n",
    "\n",
    "                optimizer.step()\n",
    "\n",
    "            output_pred = model(Variable(torch.from_numpy(X_test).float()))\n",
    "            output_pred = output_pred.data.numpy()\n",
    "\n",
    "            # Calculate R2 of the pytorch model\n",
    "            score = r2_score(y_test, output_pred)\n",
    "            \n",
    "            print('Hidden size: %s, Score: %s' % (hidden_size, score))\n",
    "            \n",
    "            models.append({\n",
    "                'model': model, \n",
    "                'score': score, \n",
    "                'losses': all_losses, \n",
    "                'hidden_size': hidden_size, \n",
    "                'lr': lr, \n",
    "                'dropout_keep': dropout\n",
    "            })"
   ]
  },
  {
   "cell_type": "code",
   "execution_count": 20,
   "metadata": {},
   "outputs": [
    {
     "name": "stdout",
     "output_type": "stream",
     "text": [
      "Simple_NN(\n",
      "  (linear): Sequential(\n",
      "    (0): Linear(in_features=5, out_features=190, bias=True)\n",
      "    (1): ELU(alpha=1.0)\n",
      "    (2): Dropout(p=0.5)\n",
      "    (3): Linear(in_features=190, out_features=190, bias=True)\n",
      "    (4): ELU(alpha=1.0)\n",
      "    (5): Dropout(p=0.5)\n",
      "    (6): Linear(in_features=190, out_features=190, bias=True)\n",
      "    (7): ELU(alpha=1.0)\n",
      "    (8): Dropout(p=0.5)\n",
      "    (9): Linear(in_features=190, out_features=1, bias=True)\n",
      "  )\n",
      ")\n",
      "0.3007091979501415\n"
     ]
    }
   ],
   "source": [
    "# Best score\n",
    "models = sorted(models, key=lambda x:-x['score'])\n",
    "top_model = models[0]['model']\n",
    "print(top_model)\n",
    "print(models[0]['score'])"
   ]
  },
  {
   "cell_type": "code",
   "execution_count": 21,
   "metadata": {},
   "outputs": [
    {
     "data": {
      "image/png": "[encoded data removed]",
      "text/plain": [
       "<matplotlib.figure.Figure at 0x1a131df9b0>"
      ]
     },
     "metadata": {},
     "output_type": "display_data"
    }
   ],
   "source": [
    "import matplotlib.pyplot as plt\n",
    "import matplotlib.ticker as ticker\n",
    "\n",
    "plt.figure()\n",
    "plt.plot(models[0]['losses'])\n",
    "plt.show()"
   ]
  },
  {
   "cell_type": "code",
   "execution_count": 22,
   "metadata": {},
   "outputs": [],
   "source": [
    "output_pred = top_model(Variable(torch.from_numpy(X_test).float()))"
   ]
  },
  {
   "cell_type": "code",
   "execution_count": 23,
   "metadata": {},
   "outputs": [
    {
     "name": "stdout",
     "output_type": "stream",
     "text": [
      "[[ 7.58976440e+02]\n",
      " [ 5.75979309e+02]\n",
      " [ 7.69914185e+02]\n",
      " [ 2.18642059e+02]\n",
      " [ 6.22408569e+02]\n",
      " [ 8.05419617e+02]\n",
      " [ 5.04340179e+02]\n",
      " [ 8.81894653e+02]\n",
      " [ 3.47491058e+02]\n",
      " [ 6.83891663e+02]\n",
      " [ 1.23302078e+02]\n",
      " [ 7.85998474e+02]\n",
      " [ 2.48467278e+00]\n",
      " [-1.29189754e+00]\n",
      " [ 1.69420447e+03]\n",
      " [ 5.05795380e+02]\n",
      " [ 7.06547913e+02]\n",
      " [ 5.46343323e+02]\n",
      " [ 9.22939453e+01]\n",
      " [ 6.40608549e+00]\n",
      " [ 2.04242992e+00]\n",
      " [ 4.96196823e+01]\n",
      " [ 3.11699158e+02]\n",
      " [ 6.60251760e+00]\n",
      " [ 1.03307486e-01]\n",
      " [ 8.35807495e+02]\n",
      " [ 1.99972336e+02]\n",
      " [ 2.50072718e+00]\n",
      " [ 8.27781856e-01]\n",
      " [ 9.65916348e+00]\n",
      " [ 1.43242908e+00]\n",
      " [ 3.18187897e+02]\n",
      " [ 7.74224243e+02]\n",
      " [ 7.06147644e+02]\n",
      " [-1.53275907e-01]\n",
      " [ 8.27406704e-01]\n",
      " [-5.60702920e-01]\n",
      " [ 9.63223572e+02]\n",
      " [ 2.37364426e+02]\n",
      " [ 3.35229828e+02]\n",
      " [ 2.63594079e+00]\n",
      " [ 8.10892090e+02]\n",
      " [ 2.59712250e+02]\n",
      " [ 2.03047272e+02]\n",
      " [ 9.21268799e+02]\n",
      " [ 7.84526348e+00]\n",
      " [ 6.25171614e+00]\n",
      " [-3.19055295e+00]]\n"
     ]
    }
   ],
   "source": [
    "# Convert back to numpy\n",
    "output_pred = output_pred.data.numpy()\n",
    "print(output_pred)"
   ]
  },
  {
   "cell_type": "code",
   "execution_count": 24,
   "metadata": {},
   "outputs": [
    {
     "name": "stdout",
     "output_type": "stream",
     "text": [
      "[5.210e+00 1.687e+03 2.182e+03 1.329e+03 5.400e+01 6.050e+00 1.740e+03\n",
      " 1.070e+02 9.610e+02 2.994e+03 7.320e+02 6.860e+00 1.360e-01 5.000e-01\n",
      " 6.950e+02 2.490e+02 1.800e-02 3.490e+02 8.580e+02 1.310e-01 3.730e-01\n",
      " 1.490e+00 2.910e+02 7.300e-01 1.140e+02 5.250e+02 4.850e+02 1.230e-01\n",
      " 1.590e-01 7.500e-02 2.000e-03 1.450e+00 1.465e+03 6.020e+01 9.320e+02\n",
      " 1.650e+00 2.000e-03 1.262e+03 1.436e+03 4.770e+01 1.370e+02 2.080e+02\n",
      " 1.880e+02 1.362e+03 1.070e+03 5.880e-01 1.500e+02 8.310e+00]\n"
     ]
    }
   ],
   "source": [
    "print(y_test)"
   ]
  },
  {
   "cell_type": "code",
   "execution_count": 25,
   "metadata": {},
   "outputs": [
    {
     "name": "stdout",
     "output_type": "stream",
     "text": [
      "0.021929601985715363\n"
     ]
    }
   ],
   "source": [
    "from sklearn.metrics import r2_score\n",
    "# Calculate R2 of the pytorch model\n",
    "score = r2_score(y_test, output_pred)\n",
    "print(score)"
   ]
  }
 ],
 "metadata": {
  "kernelspec": {
   "display_name": "Python 3",
   "language": "python",
   "name": "python3"
  },
  "language_info": {
   "codemirror_mode": {
    "name": "ipython",
    "version": 3
   },
   "file_extension": ".py",
   "mimetype": "text/x-python",
   "name": "python",
   "nbconvert_exporter": "python",
   "pygments_lexer": "ipython3",
   "version": "3.6.4"
  }
 },
 "nbformat": 4,
 "nbformat_minor": 2
}
