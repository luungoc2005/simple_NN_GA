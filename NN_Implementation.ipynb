{
 "cells": [
  {
   "cell_type": "code",
   "execution_count": 1,
   "metadata": {},
   "outputs": [],
   "source": [
    "import csv\n",
    "import numpy as np"
   ]
  },
  {
   "cell_type": "code",
   "execution_count": 2,
   "metadata": {},
   "outputs": [],
   "source": [
    "with open('input.csv', 'r') as csvfile:\n",
    "    inputs = list(csv.reader(csvfile))\n",
    "    inputs = [\n",
    "        [float(num) for num in row]\n",
    "        for row in inputs\n",
    "        if '-999' not in row\n",
    "    ]\n",
    "inputs = np.array(inputs)\n",
    "\n",
    "with open('output.csv', 'r') as csvfile:\n",
    "    outputs = list(csv.reader(csvfile)) #[1:] # Skip the first row\n",
    "    outputs = [\n",
    "        [float(num) for num in row]\n",
    "        for row in outputs\n",
    "    ]\n",
    "outputs = np.array(outputs)"
   ]
  },
  {
   "cell_type": "markdown",
   "metadata": {},
   "source": [
    "Get the depths with output values"
   ]
  },
  {
   "cell_type": "code",
   "execution_count": 3,
   "metadata": {},
   "outputs": [],
   "source": [
    "# Output depths\n",
    "out_depths = outputs[:,0]\n",
    "out_depths = [round(depth, 1) for depth in out_depths]\n",
    "\n",
    "# Input depths\n",
    "in_depths = inputs[:,0]\n",
    "in_depths = [round(depth, 1) for depth in in_depths]"
   ]
  },
  {
   "cell_type": "code",
   "execution_count": 4,
   "metadata": {},
   "outputs": [],
   "source": [
    "X = []\n",
    "Y = []\n",
    "\n",
    "# inputs = inputs[:,1:] #remove the first redundant column\n",
    "# Map output values to inputs\n",
    "for out_idx, depth in enumerate(out_depths):\n",
    "    if depth in in_depths:\n",
    "        # Map the inputs to outputs by depth\n",
    "        X.append(inputs[in_depths.index(depth)])\n",
    "        Y.append(outputs[out_idx][1])\n",
    "X = np.array(X)\n",
    "Y = np.array(Y)"
   ]
  },
  {
   "cell_type": "markdown",
   "metadata": {},
   "source": [
    "Scale inputs so that mean = 0 / variance = 1"
   ]
  },
  {
   "cell_type": "code",
   "execution_count": 5,
   "metadata": {},
   "outputs": [
    {
     "name": "stdout",
     "output_type": "stream",
     "text": [
      "(189, 5)\n",
      "(189,)\n",
      "(48, 5)\n",
      "(48,)\n"
     ]
    }
   ],
   "source": [
    "from sklearn.preprocessing import StandardScaler\n",
    "from sklearn.model_selection import train_test_split\n",
    "\n",
    "input_scaler = StandardScaler(copy=True, with_mean=True, with_std=True)\n",
    "input_scaler.fit(inputs)\n",
    "output_scaler = StandardScaler(copy=True, with_mean=True, with_std=True)\n",
    "output_scaler.fit(outputs[:,-1].reshape(-1, 1))\n",
    "\n",
    "X = input_scaler.transform(X)\n",
    "\n",
    "X_train, X_test, y_train, y_test = train_test_split(X, Y, test_size=0.2, random_state=1994)\n",
    "print(X_train.shape)\n",
    "print(y_train.shape)\n",
    "print(X_test.shape)\n",
    "print(y_test.shape)\n",
    "# Y_scaled = output_scaler.transform(Y.reshape(-1, 1))"
   ]
  },
  {
   "cell_type": "markdown",
   "metadata": {},
   "source": [
    "Naive model in scikit-learn for testing model parameters"
   ]
  },
  {
   "cell_type": "code",
   "execution_count": 6,
   "metadata": {},
   "outputs": [],
   "source": [
    "# from sklearn.neural_network import MLPRegressor\n",
    "\n",
    "# models = []\n",
    "# for hidden_size in range(10, 210, 10):\n",
    "#     for lr in [0.1, 0.01, 0.001]:\n",
    "#         for alpha in [0.05, 0.1, 0.25, 0.5]:\n",
    "#             model = MLPRegressor(hidden_layer_sizes=(hidden_size,), \n",
    "#                                  activation='relu', \n",
    "#                                  solver='lbfgs',\n",
    "#                                  alpha=alpha,\n",
    "#                                  max_iter=500,\n",
    "#                                  learning_rate_init=lr,\n",
    "#                                  validation_fraction=0.1,\n",
    "#                                  random_state=1994,\n",
    "#                                  verbose=False)\n",
    "#             model.fit(X, Y)\n",
    "#             score = model.score(X,Y)\n",
    "#             print('Testing with hidden_size=%s, lr=%s, alpha:%s, score:%s' % (hidden_size, lr, alpha, score))\n",
    "#             models.append({'model': model, 'score': score})"
   ]
  },
  {
   "cell_type": "code",
   "execution_count": 7,
   "metadata": {},
   "outputs": [],
   "source": [
    "# Best score\n",
    "# models = sorted(models, key=lambda x:-x['score'])\n",
    "# top_model = models[0]['model']\n",
    "# print(top_model)\n",
    "\n",
    "# From this we found out that best model has alpha=0.05; hidden_size=170; lr=0.1\n",
    "# MLPRegressor(activation='relu', alpha=0.05, batch_size='auto', beta_1=0.9,\n",
    "#        beta_2=0.999, early_stopping=False, epsilon=1e-08,\n",
    "#        hidden_layer_sizes=(170,), learning_rate='constant',\n",
    "#        learning_rate_init=0.1, max_iter=500, momentum=0.9,\n",
    "#        nesterovs_momentum=True, power_t=0.5, random_state=1994,\n",
    "#        shuffle=True, solver='lbfgs', tol=0.0001, validation_fraction=0.1,\n",
    "#        verbose=False, warm_start=False)"
   ]
  },
  {
   "cell_type": "code",
   "execution_count": 8,
   "metadata": {},
   "outputs": [
    {
     "data": {
      "text/plain": [
       "MLPRegressor(activation='relu', alpha=0.05, batch_size='auto', beta_1=0.9,\n",
       "       beta_2=0.999, early_stopping=False, epsilon=1e-08,\n",
       "       hidden_layer_sizes=(170,), learning_rate='constant',\n",
       "       learning_rate_init=0.1, max_iter=500, momentum=0.9,\n",
       "       nesterovs_momentum=True, power_t=0.5, random_state=1994,\n",
       "       shuffle=True, solver='lbfgs', tol=0.0001, validation_fraction=0.0,\n",
       "       verbose=False, warm_start=False)"
      ]
     },
     "execution_count": 8,
     "metadata": {},
     "output_type": "execute_result"
    }
   ],
   "source": [
    "from sklearn.neural_network import MLPRegressor\n",
    "model = MLPRegressor(hidden_layer_sizes=(170,), \n",
    "                     activation='relu', \n",
    "                     solver='lbfgs',\n",
    "                     alpha=0.05,\n",
    "                     max_iter=500,\n",
    "                     learning_rate_init=0.1,\n",
    "                     validation_fraction=0.,\n",
    "                     random_state=1994,\n",
    "                     verbose=False)\n",
    "model.fit(X_train, y_train)"
   ]
  },
  {
   "cell_type": "code",
   "execution_count": 9,
   "metadata": {
    "scrolled": false
   },
   "outputs": [],
   "source": [
    "# print(Y)"
   ]
  },
  {
   "cell_type": "code",
   "execution_count": 10,
   "metadata": {
    "scrolled": true
   },
   "outputs": [],
   "source": [
    "# print(model.predict(X))"
   ]
  },
  {
   "cell_type": "markdown",
   "metadata": {},
   "source": [
    "Calculate R^2 score of the model"
   ]
  },
  {
   "cell_type": "code",
   "execution_count": 11,
   "metadata": {},
   "outputs": [
    {
     "data": {
      "text/plain": [
       "-2.386993342313885"
      ]
     },
     "execution_count": 11,
     "metadata": {},
     "output_type": "execute_result"
    }
   ],
   "source": [
    "model.score(X_test, y_test)"
   ]
  },
  {
   "cell_type": "markdown",
   "metadata": {},
   "source": [
    "More flexible model with ELU instead of ReLU"
   ]
  },
  {
   "cell_type": "code",
   "execution_count": 12,
   "metadata": {},
   "outputs": [],
   "source": [
    "import torch\n",
    "Y_view = np.reshape(y_train, (-1, 1)) # Transform Y into 2d array\n",
    "\n",
    "from torch.autograd import Variable\n",
    "X_var = Variable(torch.from_numpy(X_train).float())\n",
    "Y_var = Variable(torch.from_numpy(Y_view).float())"
   ]
  },
  {
   "cell_type": "code",
   "execution_count": 13,
   "metadata": {},
   "outputs": [],
   "source": [
    "import torch.nn as nn\n",
    "\n",
    "class Simple_NN(nn.Module):\n",
    "    \n",
    "    def __init__(self, config):\n",
    "        super(Simple_NN, self).__init__()\n",
    "        \n",
    "        self.hidden_size = config['hidden_size']\n",
    "        self.dropout_keep_prob = config['dropout_keep_prob']\n",
    "        \n",
    "        self.linear = nn.Sequential(\n",
    "            nn.Linear(5, self.hidden_size),\n",
    "            nn.ReLU(),\n",
    "            nn.Dropout(1 - self.dropout_keep_prob),\n",
    "            nn.Linear(self.hidden_size, self.hidden_size),\n",
    "            nn.ReLU(),\n",
    "            nn.Dropout(1 - self.dropout_keep_prob),\n",
    "            nn.Linear(self.hidden_size, self.hidden_size),\n",
    "            nn.ReLU(),\n",
    "            nn.Dropout(1 - self.dropout_keep_prob),\n",
    "            nn.Linear(self.hidden_size, 1),\n",
    "#             nn.Softplus()\n",
    "        )\n",
    "        \n",
    "    def forward(self, inputs):\n",
    "        output = self.linear(inputs)\n",
    "        return output"
   ]
  },
  {
   "cell_type": "code",
   "execution_count": 14,
   "metadata": {},
   "outputs": [
    {
     "name": "stderr",
     "output_type": "stream",
     "text": [
      "/Users/2359media/anaconda/envs/yolo-keras/lib/python3.6/site-packages/ipykernel_launcher.py:23: UserWarning: torch.nn.utils.clip_grad_norm is now deprecated in favor of torch.nn.utils.clip_grad_norm_.\n",
      "/Users/2359media/anaconda/envs/yolo-keras/lib/python3.6/site-packages/ipykernel_launcher.py:24: UserWarning: invalid index of a 0-dim tensor. This will be an error in PyTorch 0.5. Use tensor.item() to convert a 0-dim tensor to a Python number\n"
     ]
    },
    {
     "name": "stdout",
     "output_type": "stream",
     "text": [
      "Hidden size: 10, Score: 0.17294264802870574\n",
      "Hidden size: 10, Score: 0.10035018680252206\n",
      "Hidden size: 10, Score: 0.06574414881345014\n",
      "Hidden size: 10, Score: -0.0021310752597687443\n",
      "Hidden size: 10, Score: -0.027121258056786113\n",
      "Hidden size: 20, Score: 0.1577281603519849\n",
      "Hidden size: 20, Score: 0.14943001294260294\n",
      "Hidden size: 20, Score: 0.06340301094712464\n",
      "Hidden size: 20, Score: 0.10523018609041901\n",
      "Hidden size: 20, Score: 0.062289866048051756\n",
      "Hidden size: 30, Score: 0.10327227837810271\n",
      "Hidden size: 30, Score: 0.10529010911022219\n",
      "Hidden size: 30, Score: 0.08706013487515363\n",
      "Hidden size: 30, Score: 0.08647624557177769\n",
      "Hidden size: 30, Score: 0.09053757041268273\n",
      "Hidden size: 40, Score: 0.08561937279902221\n",
      "Hidden size: 40, Score: -0.12570535767114221\n",
      "Hidden size: 40, Score: -0.01778464267459201\n",
      "Hidden size: 40, Score: 0.037518652784926276\n",
      "Hidden size: 40, Score: 0.09936505717353905\n",
      "Hidden size: 50, Score: -0.15922222379766393\n",
      "Hidden size: 50, Score: -0.1887969801620928\n",
      "Hidden size: 50, Score: -0.15071970605150442\n",
      "Hidden size: 50, Score: 0.0013404348148168266\n",
      "Hidden size: 50, Score: 0.09601766345797902\n",
      "Hidden size: 60, Score: -0.20871116900194409\n",
      "Hidden size: 60, Score: -0.21193479448275343\n",
      "Hidden size: 60, Score: -0.1852514299760466\n",
      "Hidden size: 60, Score: -0.13648220460353033\n",
      "Hidden size: 60, Score: 0.027884602759220667\n",
      "Hidden size: 70, Score: -0.0869098734683702\n",
      "Hidden size: 70, Score: -0.2646421997278843\n",
      "Hidden size: 70, Score: -0.13789685881788238\n",
      "Hidden size: 70, Score: -0.22456653756494216\n",
      "Hidden size: 70, Score: -0.006552670665517235\n",
      "Hidden size: 80, Score: -0.3516130808122975\n",
      "Hidden size: 80, Score: -0.2004769881880506\n",
      "Hidden size: 80, Score: -0.2217882402451301\n",
      "Hidden size: 80, Score: -0.16355146581462887\n",
      "Hidden size: 80, Score: -0.12418944410645238\n",
      "Hidden size: 90, Score: -0.23169524674924968\n",
      "Hidden size: 90, Score: -0.15419707706013175\n",
      "Hidden size: 90, Score: -0.22545839600560424\n",
      "Hidden size: 90, Score: -0.14075207951440016\n",
      "Hidden size: 90, Score: -0.17109070451452002\n",
      "Hidden size: 100, Score: -0.15026002286284168\n",
      "Hidden size: 100, Score: -0.20032629848808292\n",
      "Hidden size: 100, Score: -0.25980942205531354\n",
      "Hidden size: 100, Score: -0.182533730750712\n",
      "Hidden size: 100, Score: -0.17726535318502812\n",
      "Hidden size: 110, Score: -0.09544771304576138\n",
      "Hidden size: 110, Score: -0.21389421341604464\n",
      "Hidden size: 110, Score: -0.1596292180481491\n",
      "Hidden size: 110, Score: -0.1500085192124021\n",
      "Hidden size: 110, Score: -0.13906369906443317\n",
      "Hidden size: 120, Score: -0.05342387009335159\n",
      "Hidden size: 120, Score: -0.1074244699765452\n",
      "Hidden size: 120, Score: -0.08211378622178489\n",
      "Hidden size: 120, Score: -0.22042214671033555\n",
      "Hidden size: 120, Score: -0.22083215438471537\n",
      "Hidden size: 130, Score: -0.2020201004535409\n",
      "Hidden size: 130, Score: -0.3023313656472446\n",
      "Hidden size: 130, Score: -0.2250571856393906\n",
      "Hidden size: 130, Score: -0.2315824011249279\n",
      "Hidden size: 130, Score: -0.2540935391643404\n",
      "Hidden size: 140, Score: -0.026891284238257596\n",
      "Hidden size: 140, Score: -0.11180883241985962\n",
      "Hidden size: 140, Score: -0.1535116840165116\n",
      "Hidden size: 140, Score: -0.22057401712798685\n",
      "Hidden size: 140, Score: -0.20940109420441622\n",
      "Hidden size: 150, Score: -0.02046113545549355\n",
      "Hidden size: 150, Score: -0.06497229985222353\n",
      "Hidden size: 150, Score: -0.1166409564128239\n",
      "Hidden size: 150, Score: -0.1833206670094305\n",
      "Hidden size: 150, Score: -0.22341791005683076\n",
      "Hidden size: 160, Score: -0.07293245127757042\n",
      "Hidden size: 160, Score: -0.10967228629345782\n",
      "Hidden size: 160, Score: -0.1257160720183439\n",
      "Hidden size: 160, Score: -0.22910783894016573\n",
      "Hidden size: 160, Score: -0.25967717986113237\n",
      "Hidden size: 170, Score: -0.0626709600219999\n",
      "Hidden size: 170, Score: -0.13803118125323954\n",
      "Hidden size: 170, Score: -0.16513877749791717\n",
      "Hidden size: 170, Score: -0.1502770271117806\n",
      "Hidden size: 170, Score: -0.22585232597414429\n",
      "Hidden size: 180, Score: 0.021637448165317652\n",
      "Hidden size: 180, Score: -0.1856586001646876\n",
      "Hidden size: 180, Score: -0.09562445704772848\n",
      "Hidden size: 180, Score: -0.2871684507969301\n",
      "Hidden size: 180, Score: -0.17220312253041858\n",
      "Hidden size: 190, Score: -0.05752944385519321\n",
      "Hidden size: 190, Score: -0.041555020470693815\n",
      "Hidden size: 190, Score: -0.04969205519960007\n",
      "Hidden size: 190, Score: -0.2064630395233631\n",
      "Hidden size: 190, Score: -0.133436211989155\n"
     ]
    }
   ],
   "source": [
    "import torch.optim as optim\n",
    "from sklearn.metrics import r2_score\n",
    "\n",
    "models = []\n",
    "for hidden_size in range(10, 200, 10):\n",
    "#     for lr in [0.1, 0.01, 0.001]:\n",
    "    for dropout in [0.9, 0.8, 0.7, 0.6, 0.5]:\n",
    "        # Training:\n",
    "        all_losses = []\n",
    "\n",
    "        model = Simple_NN({'hidden_size': hidden_size, 'dropout_keep_prob': dropout})\n",
    "        # optimizer = optim.SGD(model.parameters(), lr=0.1, momentum=0.9, weight_decay=1e-4)\n",
    "        optimizer = optim.Adam(model.parameters())\n",
    "        criterion = nn.SmoothL1Loss()\n",
    "\n",
    "        for epoch in range(3000):\n",
    "            optimizer.zero_grad()\n",
    "\n",
    "            output = model(X_var)\n",
    "            loss = criterion(output, Y_var)\n",
    "            loss.backward()\n",
    "\n",
    "            nn.utils.clip_grad_norm(model.parameters(), 5.)\n",
    "            all_losses.append(loss.data[0])\n",
    "\n",
    "        #     print('Epoch %s, loss: %s' % (epoch + 1, loss.data[0]))\n",
    "\n",
    "            optimizer.step()\n",
    "\n",
    "#             with torch.no_grad():\n",
    "        model.eval()\n",
    "        output_pred = model(Variable(torch.from_numpy(X_test).float()))\n",
    "        output_pred = output_pred.data.numpy()\n",
    "\n",
    "        # Calculate R2 of the pytorch model\n",
    "        score = r2_score(y_test, output_pred)\n",
    "\n",
    "        print('Hidden size: %s, Score: %s' % (hidden_size, score))\n",
    "\n",
    "        models.append({\n",
    "            'model': model, \n",
    "            'score': score, \n",
    "            'losses': all_losses, \n",
    "            'hidden_size': hidden_size, \n",
    "#             'lr': lr, \n",
    "            'dropout_keep': dropout\n",
    "        })"
   ]
  },
  {
   "cell_type": "code",
   "execution_count": 15,
   "metadata": {},
   "outputs": [
    {
     "name": "stdout",
     "output_type": "stream",
     "text": [
      "Simple_NN(\n",
      "  (linear): Sequential(\n",
      "    (0): Linear(in_features=5, out_features=10, bias=True)\n",
      "    (1): ReLU()\n",
      "    (2): Dropout(p=0.09999999999999998)\n",
      "    (3): Linear(in_features=10, out_features=10, bias=True)\n",
      "    (4): ReLU()\n",
      "    (5): Dropout(p=0.09999999999999998)\n",
      "    (6): Linear(in_features=10, out_features=10, bias=True)\n",
      "    (7): ReLU()\n",
      "    (8): Dropout(p=0.09999999999999998)\n",
      "    (9): Linear(in_features=10, out_features=1, bias=True)\n",
      "  )\n",
      ")\n",
      "0.17294264802870574\n"
     ]
    },
    {
     "ename": "KeyError",
     "evalue": "'lr'",
     "output_type": "error",
     "traceback": [
      "\u001b[0;31m---------------------------------------------------------------------------\u001b[0m",
      "\u001b[0;31mKeyError\u001b[0m                                  Traceback (most recent call last)",
      "\u001b[0;32m<ipython-input-15-b4686cff6a7a>\u001b[0m in \u001b[0;36m<module>\u001b[0;34m()\u001b[0m\n\u001b[1;32m      4\u001b[0m \u001b[0mprint\u001b[0m\u001b[0;34m(\u001b[0m\u001b[0mtop_model\u001b[0m\u001b[0;34m)\u001b[0m\u001b[0;34m\u001b[0m\u001b[0m\n\u001b[1;32m      5\u001b[0m \u001b[0mprint\u001b[0m\u001b[0;34m(\u001b[0m\u001b[0mmodels\u001b[0m\u001b[0;34m[\u001b[0m\u001b[0;36m0\u001b[0m\u001b[0;34m]\u001b[0m\u001b[0;34m[\u001b[0m\u001b[0;34m'score'\u001b[0m\u001b[0;34m]\u001b[0m\u001b[0;34m)\u001b[0m\u001b[0;34m\u001b[0m\u001b[0m\n\u001b[0;32m----> 6\u001b[0;31m \u001b[0mprint\u001b[0m\u001b[0;34m(\u001b[0m\u001b[0mmodels\u001b[0m\u001b[0;34m[\u001b[0m\u001b[0;36m0\u001b[0m\u001b[0;34m]\u001b[0m\u001b[0;34m[\u001b[0m\u001b[0;34m'lr'\u001b[0m\u001b[0;34m]\u001b[0m\u001b[0;34m)\u001b[0m\u001b[0;34m\u001b[0m\u001b[0m\n\u001b[0m",
      "\u001b[0;31mKeyError\u001b[0m: 'lr'"
     ]
    }
   ],
   "source": [
    "# Best score\n",
    "models = sorted(models, key=lambda x:-x['score'])\n",
    "top_model = models[0]['model']\n",
    "print(top_model)\n",
    "print(models[0]['score'])\n",
    "# print(models[0]['lr'])"
   ]
  },
  {
   "cell_type": "code",
   "execution_count": 17,
   "metadata": {},
   "outputs": [
    {
     "data": {
      "image/png": "[encoded data removed]",
      "text/plain": [
       "<matplotlib.figure.Figure at 0x1a1bed59b0>"
      ]
     },
     "metadata": {},
     "output_type": "display_data"
    }
   ],
   "source": [
    "import matplotlib.pyplot as plt\n",
    "import matplotlib.ticker as ticker\n",
    "\n",
    "plt.figure()\n",
    "plt.plot(models[0]['losses'])\n",
    "plt.show()"
   ]
  },
  {
   "cell_type": "code",
   "execution_count": null,
   "metadata": {},
   "outputs": [],
   "source": [
    "top_model.eval()\n",
    "output_pred = top_model(Variable(torch.from_numpy(X_test).float()))"
   ]
  },
  {
   "cell_type": "code",
   "execution_count": null,
   "metadata": {},
   "outputs": [],
   "source": [
    "# Convert back to numpy\n",
    "output_pred = output_pred.data.numpy()\n",
    "print(output_pred)"
   ]
  },
  {
   "cell_type": "code",
   "execution_count": null,
   "metadata": {},
   "outputs": [],
   "source": [
    "print(y_test)"
   ]
  },
  {
   "cell_type": "code",
   "execution_count": null,
   "metadata": {},
   "outputs": [],
   "source": [
    "from sklearn.metrics import r2_score\n",
    "# Calculate R2 of the pytorch model\n",
    "score = r2_score(y_test, output_pred)\n",
    "print(score)"
   ]
  }
 ],
 "metadata": {
  "kernelspec": {
   "display_name": "Python 3",
   "language": "python",
   "name": "python3"
  },
  "language_info": {
   "codemirror_mode": {
    "name": "ipython",
    "version": 3
   },
   "file_extension": ".py",
   "mimetype": "text/x-python",
   "name": "python",
   "nbconvert_exporter": "python",
   "pygments_lexer": "ipython3",
   "version": "3.6.4"
  }
 },
 "nbformat": 4,
 "nbformat_minor": 2
}
